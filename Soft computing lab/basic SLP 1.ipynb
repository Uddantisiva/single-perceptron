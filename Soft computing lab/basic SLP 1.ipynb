{
 "cells": [
  {
   "cell_type": "code",
   "execution_count": 9,
   "id": "9aea7084",
   "metadata": {},
   "outputs": [],
   "source": [
    "import numpy as np\n",
    "from sklearn.datasets import load_iris\n",
    "from sklearn.preprocessing import StandardScaler\n",
    "from sklearn.metrics import accuracy_score\n",
    "from sklearn.model_selection import train_test_split\n",
    "from sklearn.linear_model import Perceptron\n",
    "\n",
    "import matplotlib.pyplot as plt"
   ]
  },
  {
   "cell_type": "code",
   "execution_count": 11,
   "id": "a38edd0d",
   "metadata": {},
   "outputs": [],
   "source": [
    "# load dataset/\n",
    "data = load_iris()\n",
    "x=data.data\n",
    "y=data.target"
   ]
  },
  {
   "cell_type": "code",
   "execution_count": 14,
   "id": "2d1e9091",
   "metadata": {},
   "outputs": [],
   "source": [
    "# x train split operation\n",
    "# y doesnot want any scaling \n",
    "x_train,x_test,y_train,y_test =train_test_split(x,y,test_size=0.3,random_state=42)"
   ]
  },
  {
   "cell_type": "code",
   "execution_count": 15,
   "id": "643b4015",
   "metadata": {},
   "outputs": [],
   "source": [
    "scale = StandardScaler()\n",
    "x_train_scaled=scale.fit_transform(x_train)\n",
    "x_test=scale.transform(x_test)\n"
   ]
  },
  {
   "cell_type": "code",
   "execution_count": 21,
   "id": "e4e52cba",
   "metadata": {},
   "outputs": [],
   "source": [
    "# x_train_scaled\n"
   ]
  },
  {
   "cell_type": "code",
   "execution_count": 19,
   "id": "2f6d14c4",
   "metadata": {},
   "outputs": [],
   "source": [
    "# x"
   ]
  },
  {
   "cell_type": "code",
   "execution_count": 20,
   "id": "490fd144",
   "metadata": {},
   "outputs": [],
   "source": [
    "# x_test\n"
   ]
  },
  {
   "cell_type": "code",
   "execution_count": 23,
   "id": "5c6254b7",
   "metadata": {},
   "outputs": [],
   "source": [
    "model=Perceptron(max_iter=1000,tol=1e-3)\n",
    "model.fit(x_train,y_train)\n",
    "y_pred=model.predict(x_test)\n",
    "accuracy= accuracy_score(y_test,y_pred)"
   ]
  },
  {
   "cell_type": "code",
   "execution_count": null,
   "id": "894bdf57",
   "metadata": {},
   "outputs": [],
   "source": []
  },
  {
   "cell_type": "code",
   "execution_count": 26,
   "id": "b7ff00ab",
   "metadata": {},
   "outputs": [],
   "source": [
    "load_iris??"
   ]
  },
  {
   "cell_type": "code",
   "execution_count": null,
   "id": "f6322dfc",
   "metadata": {},
   "outputs": [],
   "source": []
  }
 ],
 "metadata": {
  "kernelspec": {
   "display_name": "Python 3 (ipykernel)",
   "language": "python",
   "name": "python3"
  },
  "language_info": {
   "codemirror_mode": {
    "name": "ipython",
    "version": 3
   },
   "file_extension": ".py",
   "mimetype": "text/x-python",
   "name": "python",
   "nbconvert_exporter": "python",
   "pygments_lexer": "ipython3",
   "version": "3.11.5"
  }
 },
 "nbformat": 4,
 "nbformat_minor": 5
}
