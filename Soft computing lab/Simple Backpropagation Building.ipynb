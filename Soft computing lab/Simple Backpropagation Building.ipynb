{
 "cells": [
  {
   "cell_type": "code",
   "execution_count": 1,
   "id": "934f2e80",
   "metadata": {},
   "outputs": [],
   "source": [
    "import numpy as np\n",
    "from sklearn.metrics import accuracy_score\n",
    "import matplotlib.pyplot as plt"
   ]
  },
  {
   "cell_type": "code",
   "execution_count": 2,
   "id": "eb196048",
   "metadata": {},
   "outputs": [],
   "source": [
    "# sigmoid activation function\n",
    "def sigmoid(x):\n",
    "    return 1/(1+np.exp(-x))"
   ]
  },
  {
   "cell_type": "code",
   "execution_count": 3,
   "id": "25b3615f",
   "metadata": {},
   "outputs": [],
   "source": [
    "# derivative of sigmoid function\n",
    "def sigmoid_derivative(x):\n",
    "    return x*(1-x)"
   ]
  },
  {
   "cell_type": "code",
   "execution_count": 4,
   "id": "c568c0ff",
   "metadata": {},
   "outputs": [],
   "source": [
    "# input and output data (xor problem)\n",
    "inputs=np.array([[0,0],[0,1],[1,0],[1,1]])\n",
    "# output values\n",
    "output=np.array([[0],[1],[1],[0]])\n"
   ]
  },
  {
   "cell_type": "code",
   "execution_count": 5,
   "id": "026d11f7",
   "metadata": {},
   "outputs": [],
   "source": [
    "# intialize the weights randomly\n",
    "input_layer_neuron=inputs.shape[1]\n",
    "hidden_layer_neurons=2\n",
    "output_layer_neurons=1\n",
    "\n",
    "# hidden_weights=np.random.uniform(size=(input_layer_neuron,hidden_layer_neurons))\n",
    "# hidden_bias=np.random.uniform(size=(1,hidden_layer_neurons))"
   ]
  },
  {
   "cell_type": "code",
   "execution_count": null,
   "id": "545fe079",
   "metadata": {},
   "outputs": [],
   "source": []
  },
  {
   "cell_type": "code",
   "execution_count": 27,
   "id": "73a8bb8c",
   "metadata": {},
   "outputs": [],
   "source": [
    "hidden_weights=np.random.uniform(low=0,high=0.7,size=(input_layer_neuron,hidden_layer_neurons))\n",
    "hidden_bias=np.random.uniform(low=0,high=0.7,size=(output_layer_neurons,hidden_layer_neurons))"
   ]
  },
  {
   "cell_type": "code",
   "execution_count": 28,
   "id": "060b0b81",
   "metadata": {},
   "outputs": [
    {
     "data": {
      "text/plain": [
       "2"
      ]
     },
     "execution_count": 28,
     "metadata": {},
     "output_type": "execute_result"
    }
   ],
   "source": [
    "hidden_layer_neurons\n",
    "# hidden_weights"
   ]
  },
  {
   "cell_type": "code",
   "execution_count": 29,
   "id": "67975d34",
   "metadata": {},
   "outputs": [
    {
     "data": {
      "text/plain": [
       "2"
      ]
     },
     "execution_count": 29,
     "metadata": {},
     "output_type": "execute_result"
    }
   ],
   "source": [
    "input_layer_neuron"
   ]
  },
  {
   "cell_type": "code",
   "execution_count": null,
   "id": "4c9b0dcb",
   "metadata": {},
   "outputs": [],
   "source": []
  },
  {
   "cell_type": "code",
   "execution_count": 30,
   "id": "ac0929b5",
   "metadata": {},
   "outputs": [
    {
     "data": {
      "text/plain": [
       "1"
      ]
     },
     "execution_count": 30,
     "metadata": {},
     "output_type": "execute_result"
    }
   ],
   "source": [
    "output_layer_neurons"
   ]
  },
  {
   "cell_type": "code",
   "execution_count": 31,
   "id": "de96dbc1",
   "metadata": {},
   "outputs": [
    {
     "data": {
      "text/plain": [
       "array([[0.42351814, 0.27429537],\n",
       "       [0.31741711, 0.11968981]])"
      ]
     },
     "execution_count": 31,
     "metadata": {},
     "output_type": "execute_result"
    }
   ],
   "source": [
    "hidden_weights"
   ]
  },
  {
   "cell_type": "code",
   "execution_count": 32,
   "id": "09a73591",
   "metadata": {},
   "outputs": [
    {
     "data": {
      "text/plain": [
       "array([[0.13446762, 0.21550665]])"
      ]
     },
     "execution_count": 32,
     "metadata": {},
     "output_type": "execute_result"
    }
   ],
   "source": [
    "hidden_bias"
   ]
  },
  {
   "cell_type": "code",
   "execution_count": 33,
   "id": "547bca62",
   "metadata": {},
   "outputs": [],
   "source": [
    "output_weights=np.random.uniform(low=0,high=1,size=(hidden_layer_neurons,output_layer_neurons))\n",
    "output_bias=np.random.uniform(low=0,high=1,size=(1,output_layer_neurons))"
   ]
  },
  {
   "cell_type": "code",
   "execution_count": 34,
   "id": "303c9730",
   "metadata": {},
   "outputs": [],
   "source": [
    "# learning rate\n",
    "lr=0.1"
   ]
  },
  {
   "cell_type": "code",
   "execution_count": 2,
   "id": "1f21f69f",
   "metadata": {},
   "outputs": [
    {
     "ename": "NameError",
     "evalue": "name 'inputs' is not defined",
     "output_type": "error",
     "traceback": [
      "\u001b[1;31m---------------------------------------------------------------------------\u001b[0m",
      "\u001b[1;31mNameError\u001b[0m                                 Traceback (most recent call last)",
      "Cell \u001b[1;32mIn[2], line 4\u001b[0m\n\u001b[0;32m      1\u001b[0m \u001b[38;5;66;03m# train the neural_network\u001b[39;00m\n\u001b[0;32m      2\u001b[0m \u001b[38;5;28;01mfor\u001b[39;00m epoch \u001b[38;5;129;01min\u001b[39;00m \u001b[38;5;28mrange\u001b[39m(\u001b[38;5;241m1000\u001b[39m):\n\u001b[0;32m      3\u001b[0m \u001b[38;5;66;03m#     feedforward\u001b[39;00m\n\u001b[1;32m----> 4\u001b[0m     hidden_layer_input\u001b[38;5;241m=\u001b[39mnp\u001b[38;5;241m.\u001b[39mdot(inputs,hidden_weights)\u001b[38;5;241m+\u001b[39mhidden_bias\n\u001b[0;32m      5\u001b[0m     hidden_layer_output\u001b[38;5;241m=\u001b[39msigmoid(hidden_layer_input)\n\u001b[0;32m      6\u001b[0m     output_layer_input\u001b[38;5;241m=\u001b[39mnp\u001b[38;5;241m.\u001b[39mdot(hidden_layer_input,output_weights)\u001b[38;5;241m+\u001b[39moutput_bias\n",
      "\u001b[1;31mNameError\u001b[0m: name 'inputs' is not defined"
     ]
    }
   ],
   "source": [
    "# train the neural_network\n",
    "for epoch in range(1000):\n",
    "#     feedforward\n",
    "    hidden_layer_input=np.dot(inputs,hidden_weights)+hidden_bias\n",
    "    hidden_layer_output=sigmoid(hidden_layer_input)\n",
    "    output_layer_input=np.dot(hidden_layer_input,output_weights)+output_bias\n",
    "    predicted_output=sigmoid(output_layer_input)\n",
    "    \n",
    "#     backpropagation\n",
    "    error=output-predicted_output\n",
    "    d_predicted_output=error*sigmoid_derivative(predicted_output)\n",
    "    \n",
    "    error_hidden_layer=d_predicted_output.dot(output_weights.T)\n",
    "    d_hidden_layer=error_hidden_layer*sigmoid_derivative(hidden_layer_output)\n",
    "    \n",
    "#     update the weights and bias\n",
    "    output_weights=output_weights+hidden_layer_output.T.dot(d_predicted_output)*lr\n",
    "    output_bias+=np.sum(d_predicted_output,axis=0,keepdims=True)*lr\n",
    "    \n",
    "    hidden_weights+=inputs.T.dot(d_hidden_layer)*lr\n",
    "    hidden_bias+=np.sum(d_hidden_layer,axis=0,keepdims=True)*lr\n",
    "    \n",
    "# final output"
   ]
  },
  {
   "cell_type": "code",
   "execution_count": 36,
   "id": "11746416",
   "metadata": {},
   "outputs": [
    {
     "name": "stdout",
     "output_type": "stream",
     "text": [
      "Final output after training:\n",
      "[[0.47539444]\n",
      " [0.49619309]\n",
      " [0.50495394]\n",
      " [0.52574977]]\n"
     ]
    }
   ],
   "source": [
    "print(\"Final output after training:\")\n",
    "print(predicted_output)"
   ]
  },
  {
   "cell_type": "code",
   "execution_count": 42,
   "id": "2ae6f2b7",
   "metadata": {},
   "outputs": [
    {
     "data": {
      "text/plain": [
       "(array([[0.21167269, 0.15056119]]),\n",
       " array([[0.47539444],\n",
       "        [0.49619309],\n",
       "        [0.50495394],\n",
       "        [0.52574977]]))"
      ]
     },
     "execution_count": 42,
     "metadata": {},
     "output_type": "execute_result"
    }
   ],
   "source": [
    "output_weights.T,predicted_output\n"
   ]
  },
  {
   "cell_type": "code",
   "execution_count": 16,
   "id": "4bb63cb8",
   "metadata": {},
   "outputs": [],
   "source": [
    "# accuracy_score??"
   ]
  },
  {
   "cell_type": "code",
   "execution_count": 44,
   "id": "a205384a",
   "metadata": {},
   "outputs": [
    {
     "data": {
      "text/plain": [
       "array([[0.        , 0.        ],\n",
       "       [0.33146525, 0.08709023],\n",
       "       [0.40592316, 0.21507894],\n",
       "       [0.73738841, 0.30216917]])"
      ]
     },
     "execution_count": 44,
     "metadata": {},
     "output_type": "execute_result"
    }
   ],
   "source": [
    "np.dot(inputs,hidden_weights)"
   ]
  },
  {
   "cell_type": "code",
   "execution_count": null,
   "id": "d4736fb8",
   "metadata": {},
   "outputs": [],
   "source": []
  },
  {
   "cell_type": "code",
   "execution_count": null,
   "id": "e7aeb282",
   "metadata": {},
   "outputs": [],
   "source": []
  },
  {
   "cell_type": "code",
   "execution_count": null,
   "id": "89c96163",
   "metadata": {},
   "outputs": [],
   "source": []
  }
 ],
 "metadata": {
  "kernelspec": {
   "display_name": "Python 3 (ipykernel)",
   "language": "python",
   "name": "python3"
  },
  "language_info": {
   "codemirror_mode": {
    "name": "ipython",
    "version": 3
   },
   "file_extension": ".py",
   "mimetype": "text/x-python",
   "name": "python",
   "nbconvert_exporter": "python",
   "pygments_lexer": "ipython3",
   "version": "3.11.5"
  }
 },
 "nbformat": 4,
 "nbformat_minor": 5
}
