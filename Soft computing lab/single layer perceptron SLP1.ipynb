{
 "cells": [
  {
   "cell_type": "markdown",
   "id": "ecb10a4d",
   "metadata": {},
   "source": [
    "# lecture 1"
   ]
  },
  {
   "cell_type": "markdown",
   "id": "c7e57892",
   "metadata": {},
   "source": [
    "single layer Perceptron "
   ]
  },
  {
   "cell_type": "code",
   "execution_count": 1,
   "id": "3b9438c2",
   "metadata": {},
   "outputs": [],
   "source": [
    "import numpy as np\n",
    "from sklearn.datasets import load_iris\n",
    "import matplotlib.pyplot as plt"
   ]
  },
  {
   "cell_type": "code",
   "execution_count": 2,
   "id": "c3a366a4",
   "metadata": {},
   "outputs": [],
   "source": [
    "data=load_iris()\n",
    "X=data.data[:100,:2]\n",
    "y=data.target[:100]\n",
    "y=np.where(y==0,-1,1)"
   ]
  },
  {
   "cell_type": "code",
   "execution_count": 9,
   "id": "32c695d3",
   "metadata": {},
   "outputs": [
    {
     "data": {
      "text/plain": [
       "(100, 2)"
      ]
     },
     "execution_count": 9,
     "metadata": {},
     "output_type": "execute_result"
    }
   ],
   "source": [
    "X.shape"
   ]
  },
  {
   "cell_type": "code",
   "execution_count": 10,
   "id": "2d428a1d",
   "metadata": {
    "scrolled": true
   },
   "outputs": [
    {
     "data": {
      "text/plain": [
       "(100,)"
      ]
     },
     "execution_count": 10,
     "metadata": {},
     "output_type": "execute_result"
    }
   ],
   "source": [
    "y.shape"
   ]
  },
  {
   "cell_type": "code",
   "execution_count": 34,
   "id": "9ca011c7",
   "metadata": {},
   "outputs": [],
   "source": [
    "class Perceptron:\n",
    "    def __init__(self,lr =0.01,n_iter=50):\n",
    "        self.lr=lr\n",
    "        self.n_iter=n_iter\n",
    "        \n",
    "  \n",
    "    \n",
    "    def fit(self,X,y):\n",
    "        self.weights_=np.zeros(1+X.shape[1])\n",
    "        self.errors=[]\n",
    "        for _ in range(self.n_iter):\n",
    "            errors=0\n",
    "            for xi,target in zip (X,y):\n",
    "                update=self.lr*(target - self.predict(xi))\n",
    "                self.weights_[1:] += update*xi\n",
    "                self.weights_[0] += update\n",
    "                errors+=int(update!=0.0)\n",
    "            self.errors.append(errors)\n",
    "        return self\n",
    "    def net_input(self,X):\n",
    "        return np.dot(X,self.weights_[1:])+self.weights_[0]\n",
    "    \n",
    "    def predict(self,X):\n",
    "        return np.where(self.net_input(X)>=0.0,1,-1)\n",
    "     "
   ]
  },
  {
   "cell_type": "code",
   "execution_count": 38,
   "id": "b994b7e1",
   "metadata": {},
   "outputs": [
    {
     "data": {
      "text/plain": [
       "array([0., 0., 0.])"
      ]
     },
     "execution_count": 38,
     "metadata": {},
     "output_type": "execute_result"
    }
   ],
   "source": [
    "np.zeros(1+X.shape[1])"
   ]
  },
  {
   "cell_type": "code",
   "execution_count": 45,
   "id": "19d2d0b2",
   "metadata": {},
   "outputs": [
    {
     "data": {
      "image/png": "[encoded data removed]",
      "text/plain": [
       "<Figure size 640x480 with 1 Axes>"
      ]
     },
     "metadata": {},
     "output_type": "display_data"
    }
   ],
   "source": [
    "#train the perceptron\n",
    "ppn = Perceptron(lr=0.1,n_iter=7)\n",
    "ppn.fit(X,y)\n",
    "plt.plot(range(1,len(ppn.errors)+1),ppn.errors,marker=\".\")\n",
    "plt.xlabel(\"epochs\")\n",
    "plt.ylabel(\"number of updates\")\n",
    "plt.title(\"perceptron Training\")\n",
    "plt.show() "
   ]
  },
  {
   "cell_type": "markdown",
   "id": "007a4a50",
   "metadata": {},
   "source": [
    "# lecture 2"
   ]
  },
  {
   "cell_type": "markdown",
   "id": "cc8086b5",
   "metadata": {},
   "source": [
    "single layer perceptron for pattern recognization"
   ]
  },
  {
   "cell_type": "code",
   "execution_count": null,
   "id": "499a8be3",
   "metadata": {},
   "outputs": [],
   "source": [
    "import numpy as np\n",
    "from sklearn.datasets import load_iris\n",
    "from sklearn.model_selction import train_test_split\n",
    "from sklearn.preprocessing import StandardScaler\n",
    "from sklearn.neural_network import MLPClassifier\n",
    "from sklearn.metrics import accurancy_scope"
   ]
  },
  {
   "cell_type": "code",
   "execution_count": null,
   "id": "263f583b",
   "metadata": {},
   "outputs": [],
   "source": []
  }
 ],
 "metadata": {
  "kernelspec": {
   "display_name": "Python 3 (ipykernel)",
   "language": "python",
   "name": "python3"
  },
  "language_info": {
   "codemirror_mode": {
    "name": "ipython",
    "version": 3
   },
   "file_extension": ".py",
   "mimetype": "text/x-python",
   "name": "python",
   "nbconvert_exporter": "python",
   "pygments_lexer": "ipython3",
   "version": "3.11.5"
  }
 },
 "nbformat": 4,
 "nbformat_minor": 5
}
